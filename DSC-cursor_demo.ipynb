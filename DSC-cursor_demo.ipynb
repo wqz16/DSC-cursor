{
 "cells": [
  {
   "cell_type": "code",
   "execution_count": null,
   "metadata": {},
   "outputs": [],
   "source": [
    "%matplotlib widget\n",
    "import HF_cursor_function as hfcp\n",
    "import numpy as np\n",
    "import matplotlib.pyplot as plt\n",
    "from scipy.optimize import curve_fit\n",
    "from sklearn.model_selection import LeaveOneOut"
   ]
  },
  {
   "cell_type": "code",
   "execution_count": null,
   "metadata": {},
   "outputs": [],
   "source": [
    "#file names\n",
    "sample_composition = \"Pt60.0Cu20.0P20.0\"\n",
    "#directory\n",
    "sample_filename_1 = \"data/\"+\"Pt60_103-303-4.txt\"\n",
    "sample_filename_s = \"data/\"+\"sapphire_103-303-2.txt\"\n",
    "sample_filename_e = \"data/\"+\"empty_103-303-2.txt\""
   ]
  },
  {
   "cell_type": "code",
   "execution_count": null,
   "metadata": {},
   "outputs": [],
   "source": [
    "#generate the graph to select points\n",
    "points_list_1_1,points_list_2_1,points_list_3_1,weight1_1,weight2_1,sample_data_1 = hfcp.hf_cursor1(sample_filename_1,sample_filename_s,sample_filename_e,sample_composition)"
   ]
  },
  {
   "cell_type": "code",
   "execution_count": null,
   "metadata": {},
   "outputs": [],
   "source": [
    "#calculate cp from selected point\n",
    "cp_samp_1,T_samp_1 = hfcp.cp(points_list_1_1,points_list_2_1,points_list_3_1,sample_composition,weight1_1,weight2_1,sample_data_1)\n",
    "print(list(cp_samp_1),sep=',')\n",
    "print(list(T_samp_1),sep=',')"
   ]
  }
 ],
 "metadata": {
  "language_info": {
   "name": "python"
  }
 },
 "nbformat": 4,
 "nbformat_minor": 2
}
